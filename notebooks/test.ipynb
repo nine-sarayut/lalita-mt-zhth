{
 "cells": [
  {
   "cell_type": "code",
   "execution_count": null,
   "id": "b7ed6c07",
   "metadata": {},
   "outputs": [],
   "source": [
    "# conda create -n zhth_py8 python=3.8 -y\n",
    "# # conda env remove -n zhth_py8 -y\n",
    "# conda activate zhth_py8\n",
    "# pip install --upgrade pip\n",
    "# pip install ipykernel nbconvert\n",
    "# pip install transformers==4.6.0\n",
    "# pip install torch==1.8.0\n",
    "# pip install six\n",
    "# pip install sentencepiece\n",
    "# pip install jupyter ipywidgets"
   ]
  },
  {
   "cell_type": "code",
   "execution_count": 2,
   "id": "83e2d2dd",
   "metadata": {},
   "outputs": [
    {
     "name": "stdout",
     "output_type": "stream",
     "text": [
      "['我爱你', '我想吃饭。']\n"
     ]
    }
   ],
   "source": [
    "from transformers import AutoTokenizer, AutoModelForSeq2SeqLM\n",
    " \n",
    "tokenizer = AutoTokenizer.from_pretrained(\"Lalita/marianmt-th-zh_cn\")\n",
    "# model = AutoModelForSeq2SeqLM.from_pretrained(\"Lalita/marianmt-th-zh_cn\").cpu()\n",
    "model = AutoModelForSeq2SeqLM.from_pretrained(\"Lalita/marianmt-th-zh_cn\")\n",
    "\n",
    "src_text = [\n",
    "    'ฉันรักคุณ',\n",
    "    'ฉันอยากกินข้าว',\n",
    "]\n",
    "\n",
    "translated = model.generate(**tokenizer(src_text, return_tensors=\"pt\", padding=True))\n",
    "print([tokenizer.decode(t, skip_special_tokens=True) for t in translated])"
   ]
  },
  {
   "cell_type": "code",
   "execution_count": 3,
   "id": "d6348175",
   "metadata": {},
   "outputs": [
    {
     "name": "stdout",
     "output_type": "stream",
     "text": [
      "['ผมรักคุณนะ', 'ฉันอยากกิน']\n"
     ]
    }
   ],
   "source": [
    "# from transformers import AutoTokenizer, AutoModelForSeq2SeqLM\n",
    " \n",
    "tokenizer = AutoTokenizer.from_pretrained(\"Lalita/marianmt-zh_cn-th\")\n",
    "# model = AutoModelForSeq2SeqLM.from_pretrained(\"Lalita/marianmt-zh_cn-th\").cpu()\n",
    "model = AutoModelForSeq2SeqLM.from_pretrained(\"Lalita/marianmt-zh_cn-th\")\n",
    "\n",
    "src_text = [\n",
    "    '我爱你',\n",
    "    '我想吃饭',\n",
    "]\n",
    "translated = model.generate(**tokenizer(src_text, return_tensors=\"pt\", padding=True))\n",
    "print([tokenizer.decode(t, skip_special_tokens=True) for t in translated])\n"
   ]
  }
 ],
 "metadata": {
  "kernelspec": {
   "display_name": "zhth_py9",
   "language": "python",
   "name": "python3"
  },
  "language_info": {
   "codemirror_mode": {
    "name": "ipython",
    "version": 3
   },
   "file_extension": ".py",
   "mimetype": "text/x-python",
   "name": "python",
   "nbconvert_exporter": "python",
   "pygments_lexer": "ipython3",
   "version": "3.9.21"
  }
 },
 "nbformat": 4,
 "nbformat_minor": 5
}
